{
 "cells": [
  {
   "cell_type": "code",
   "execution_count": 3,
   "id": "7da07abf",
   "metadata": {},
   "outputs": [],
   "source": [
    "## A set is an unordered collection of elements without duplicate entries.\n",
    "# When printed, iterated or converted into a sequence, its elements will appear in an arbitrary order."
   ]
  },
  {
   "cell_type": "code",
   "execution_count": 5,
   "id": "1f0099cd",
   "metadata": {},
   "outputs": [],
   "source": [
    "def average(array):\n",
    "    # your code goes here\n",
    "    x = sum(set(array))\n",
    "    y = len(set(array))\n",
    "    res = x/y\n",
    "    return res\n",
    "\n"
   ]
  },
  {
   "cell_type": "code",
   "execution_count": 6,
   "id": "b60ac4ff",
   "metadata": {},
   "outputs": [],
   "source": [
    "#symmetric differnce"
   ]
  },
  {
   "cell_type": "code",
   "execution_count": 7,
   "id": "1ed5d870",
   "metadata": {},
   "outputs": [
    {
     "name": "stdout",
     "output_type": "stream",
     "text": [
      "5\n",
      "6\n",
      "6\n",
      "7\n",
      "6\n",
      "7\n"
     ]
    }
   ],
   "source": [
    "# Enter your code here. Read input from STDIN. Print output to STDOUT\n",
    "M = int(input())\n",
    "mset = set(map(int, input().split()))\n",
    "N = int(input())\n",
    "nset = set(map(int, input().split()))\n",
    "mdef = mset.difference(nset)\n",
    "ndef = nset.difference(mset)\n",
    "\n",
    "output = mdef.union(ndef)\n",
    "\n",
    "for i in sorted(list(output)):\n",
    "    print(i)"
   ]
  },
  {
   "cell_type": "code",
   "execution_count": 8,
   "id": "ee8722dc",
   "metadata": {},
   "outputs": [],
   "source": [
    "# no idea"
   ]
  },
  {
   "cell_type": "code",
   "execution_count": null,
   "id": "d31a7c36",
   "metadata": {},
   "outputs": [],
   "source": [
    "io = input().split()\n",
    "m = int(io[0])\n",
    "n = int(io[1])\n",
    "\n",
    "storage = list()\n",
    "count = 0\n",
    "\n",
    "storage = list(map(int, input().strip().split()))\n",
    "\n",
    "A = set(map(int, input().strip().split()))\n",
    "B = set(map(int, input().strip().split()))\n",
    "\n",
    "for i in storage:\n",
    "    if i in A:\n",
    "        count = count+1\n",
    "    if i in B:\n",
    "        count = count-1\n",
    "\n",
    "print(count)"
   ]
  },
  {
   "cell_type": "code",
   "execution_count": 13,
   "id": "da3166da",
   "metadata": {},
   "outputs": [],
   "source": [
    "# set.add()"
   ]
  },
  {
   "cell_type": "code",
   "execution_count": 14,
   "id": "998a28fa",
   "metadata": {},
   "outputs": [
    {
     "name": "stdout",
     "output_type": "stream",
     "text": [
      "5\n",
      "fr\n",
      "uk\n",
      "it\n",
      "fr\n",
      "usa\n",
      "4\n"
     ]
    }
   ],
   "source": [
    "N = int(input())\n",
    "\n",
    "countries = set()\n",
    "\n",
    "for i in range(N):\n",
    "    countries.add(input())\n",
    "\n",
    "print(len(countries))"
   ]
  },
  {
   "cell_type": "code",
   "execution_count": 15,
   "id": "508b6d21",
   "metadata": {},
   "outputs": [],
   "source": [
    "## .remove,pop"
   ]
  },
  {
   "cell_type": "code",
   "execution_count": null,
   "id": "4cbd70c2",
   "metadata": {},
   "outputs": [],
   "source": [
    "num = int(input())\n",
    "data = set(map(int, input().split()))\n",
    "operations = int(input())\n",
    "\n",
    "for x in range(operations):\n",
    "  oper = input().split()\n",
    "  if oper[0] == \"remove\":\n",
    "    data.remove(int(oper[1]))\n",
    "  elif oper[0] == \"discard\":\n",
    "    data.discard(int(oper[1]))\n",
    "  else:\n",
    "    data.pop()\n",
    "    \n",
    "print(sum(data))"
   ]
  },
  {
   "cell_type": "code",
   "execution_count": null,
   "id": "ec90289a",
   "metadata": {},
   "outputs": [],
   "source": [
    "# set.union"
   ]
  },
  {
   "cell_type": "code",
   "execution_count": null,
   "id": "f0a7ebb1",
   "metadata": {},
   "outputs": [],
   "source": [
    "N1 = int(input())\n",
    "storage1 = set(input().split());\n",
    "\n",
    "N2 = int(input())\n",
    "storage2 = set(input().split());\n",
    "\n",
    "storage3 = storage1.union(storage2)\n",
    "\n",
    "print(len(storage3))"
   ]
  },
  {
   "cell_type": "code",
   "execution_count": null,
   "id": "077bc9b9",
   "metadata": {},
   "outputs": [],
   "source": [
    "# set.intersection()"
   ]
  },
  {
   "cell_type": "code",
   "execution_count": null,
   "id": "1b3d7207",
   "metadata": {},
   "outputs": [],
   "source": [
    "N1 = int(input())\n",
    "storage1 = set(input().split())\n",
    "\n",
    "N2 = int(input())\n",
    "storage2 = set(input().split())\n",
    "\n",
    "storage3 = storage2.intersection(storage1)\n",
    "\n",
    "print(len(storage3))"
   ]
  },
  {
   "cell_type": "code",
   "execution_count": null,
   "id": "b400eb1a",
   "metadata": {},
   "outputs": [],
   "source": [
    "# set.difference"
   ]
  },
  {
   "cell_type": "code",
   "execution_count": null,
   "id": "f8907d22",
   "metadata": {},
   "outputs": [],
   "source": [
    "N1 = int(input())\n",
    "storage1 = set(input().split())\n",
    "\n",
    "N2 = int(input())\n",
    "storage2 = set(input().split())\n",
    "\n",
    "storage3 = storage1.difference(storage2)\n",
    "\n",
    "print(len(storage3))"
   ]
  },
  {
   "cell_type": "code",
   "execution_count": null,
   "id": "9b0511c0",
   "metadata": {},
   "outputs": [],
   "source": [
    "# set.symmetric difference"
   ]
  },
  {
   "cell_type": "code",
   "execution_count": null,
   "id": "ffef6ee6",
   "metadata": {},
   "outputs": [],
   "source": [
    "N1 = int(input())\n",
    "storage1 = set(input().split())\n",
    "\n",
    "N2 = int(input())\n",
    "storage2 = set(input().split())\n",
    "\n",
    "storage3 = storage1.symmetric_difference(storage2)\n",
    "\n",
    "print(len(storage3))"
   ]
  },
  {
   "cell_type": "code",
   "execution_count": null,
   "id": "e5a2ecfe",
   "metadata": {},
   "outputs": [],
   "source": [
    "# set mutations"
   ]
  },
  {
   "cell_type": "code",
   "execution_count": null,
   "id": "32593dc4",
   "metadata": {},
   "outputs": [],
   "source": [
    "len_set = int(input())\n",
    "\n",
    "storage = set(map(int, input().split()))\n",
    "\n",
    "op_len = int(input())\n",
    "\n",
    "for i in range(op_len):\n",
    "    operation = input().split()\n",
    "    if operation[0] == 'intersection_update':\n",
    "        temp_storage = set(map(int, input().split()))\n",
    "        storage.intersection_update(temp_storage)\n",
    "    elif operation[0] == 'update':\n",
    "        temp_storage = set(map(int, input().split()))\n",
    "        storage.update(temp_storage)\n",
    "    elif operation[0] == 'symmetric_difference_update':\n",
    "        temp_storage = set(map(int, input().split()))\n",
    "        storage.symmetric_difference_update(temp_storage)\n",
    "    elif operation[0] == 'difference_update':\n",
    "        temp_storage = set(map(int, input().split()))\n",
    "        storage.difference_update(temp_storage)\n",
    "    else :\n",
    "        assert False\n",
    "\n",
    "print(sum(storage))"
   ]
  },
  {
   "cell_type": "code",
   "execution_count": null,
   "id": "0ffae616",
   "metadata": {},
   "outputs": [],
   "source": [
    "# The Captain's Room"
   ]
  },
  {
   "cell_type": "code",
   "execution_count": null,
   "id": "9598c556",
   "metadata": {},
   "outputs": [],
   "source": [
    "N = int(input())\n",
    "\n",
    "storage = map(int, input().split())\n",
    "storage = sorted(storage)\n",
    "\n",
    "for i in range(len(storage)):\n",
    "    if(i != len(storage)-1):\n",
    "        if(storage[i]!=storage[i-1] and storage[i]!=storage[i+1]):\n",
    "            print(storage[i])\n",
    "            break;\n",
    "    else:\n",
    "        print(storage[i])"
   ]
  },
  {
   "cell_type": "code",
   "execution_count": null,
   "id": "7f74a46c",
   "metadata": {},
   "outputs": [],
   "source": [
    "# check subset"
   ]
  },
  {
   "cell_type": "code",
   "execution_count": null,
   "id": "9b322adf",
   "metadata": {},
   "outputs": [],
   "source": [
    "T = int(input())\n",
    "\n",
    "for _ in range(T):\n",
    "    a = input()\n",
    "    A = set(input().split())\n",
    "    b = int(input())\n",
    "    B = set(input().split())\n",
    "    print(A.issubset(B))"
   ]
  },
  {
   "cell_type": "code",
   "execution_count": null,
   "id": "c28d2a15",
   "metadata": {},
   "outputs": [],
   "source": [
    "# Check Strict Superset"
   ]
  },
  {
   "cell_type": "code",
   "execution_count": null,
   "id": "88b0fbeb",
   "metadata": {},
   "outputs": [],
   "source": [
    "storage = set(input().split())\n",
    "N = int(input())\n",
    "output = True\n",
    "\n",
    "for i in range(N):\n",
    "    storage2 = set(input().split())\n",
    "    if not storage2.issubset(storage):\n",
    "        output = False\n",
    "    if len(storage2) >= len(storage):\n",
    "        output = False\n",
    "\n",
    "print(output)"
   ]
  },
  {
   "cell_type": "code",
   "execution_count": null,
   "id": "d7b0e710",
   "metadata": {},
   "outputs": [],
   "source": []
  }
 ],
 "metadata": {
  "kernelspec": {
   "display_name": "Python 3 (ipykernel)",
   "language": "python",
   "name": "python3"
  },
  "language_info": {
   "codemirror_mode": {
    "name": "ipython",
    "version": 3
   },
   "file_extension": ".py",
   "mimetype": "text/x-python",
   "name": "python",
   "nbconvert_exporter": "python",
   "pygments_lexer": "ipython3",
   "version": "3.9.7"
  }
 },
 "nbformat": 4,
 "nbformat_minor": 5
}
