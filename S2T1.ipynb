{
 "cells": [
  {
   "cell_type": "code",
   "execution_count": 1,
   "id": "99c603b0",
   "metadata": {},
   "outputs": [
    {
     "name": "stdout",
     "output_type": "stream",
     "text": [
      "Hello, World!\n"
     ]
    }
   ],
   "source": [
    "    print(\"Hello, World!\")\n"
   ]
  },
  {
   "cell_type": "code",
   "execution_count": 2,
   "id": "f437c2d0",
   "metadata": {},
   "outputs": [],
   "source": [
    "# if else weird question"
   ]
  },
  {
   "cell_type": "code",
   "execution_count": 3,
   "id": "be8eb50c",
   "metadata": {},
   "outputs": [
    {
     "name": "stdout",
     "output_type": "stream",
     "text": [
      "10\n",
      "Weird\n"
     ]
    }
   ],
   "source": [
    "#!/bin/python3\n",
    "\n",
    "import math\n",
    "import os\n",
    "import random\n",
    "import re\n",
    "import sys\n",
    "\n",
    "\n",
    "\n",
    "if __name__ == '__main__':\n",
    "    n = int(input().strip())\n",
    "    if n%2 != 0:\n",
    "        print(\"Weird\")\n",
    "    else:\n",
    "         if (2<=n<=5):\n",
    "            print (\"Not Weird\")\n",
    "         elif 6<=n<=20:\n",
    "            print (\"Weird\")\n",
    "         elif n>20:\n",
    "            print (\"Not Weird\")\n",
    "\n",
    "           \n"
   ]
  },
  {
   "cell_type": "code",
   "execution_count": 5,
   "id": "90755c5d",
   "metadata": {},
   "outputs": [],
   "source": [
    "#The provided code stub reads two integers from STDIN,  and . Add code to print three lines where:\n",
    "\n",
    "#The first line contains the sum of the two numbers.\n",
    "#The second line contains the difference of the two numbers (first - second).\n",
    "#The third line contains the product of the two numbers."
   ]
  },
  {
   "cell_type": "code",
   "execution_count": 6,
   "id": "5041b6c8",
   "metadata": {},
   "outputs": [
    {
     "name": "stdout",
     "output_type": "stream",
     "text": [
      "6\n",
      "3\n",
      "9\n",
      "3\n",
      "18\n"
     ]
    }
   ],
   "source": [
    "if __name__ == '__main__':\n",
    "    a = int(input())\n",
    "    b = int(input())\n",
    "print (a+b)\n",
    "print (a-b)\n",
    "print (a*b)"
   ]
  },
  {
   "cell_type": "code",
   "execution_count": 7,
   "id": "7c21222d",
   "metadata": {},
   "outputs": [],
   "source": [
    "### The provided code stub reads two integers,  and , from STDIN.\n",
    "\n",
    "# Add logic to print two lines. The first line should contain the result of integer division,  // . The second line should contain the result of float division,  / ."
   ]
  },
  {
   "cell_type": "code",
   "execution_count": 9,
   "id": "30a8afea",
   "metadata": {},
   "outputs": [
    {
     "name": "stdout",
     "output_type": "stream",
     "text": [
      "4\n",
      "3\n",
      "1\n",
      "1.3333333333333333\n"
     ]
    }
   ],
   "source": [
    "if __name__ == '__main__':\n",
    "    a = int(input())\n",
    "    b = int(input())\n",
    "    \n",
    "    print (a//b)\n",
    "    print (float(a)/float(b))"
   ]
  },
  {
   "cell_type": "code",
   "execution_count": 10,
   "id": "06db7efb",
   "metadata": {},
   "outputs": [],
   "source": [
    "## The provided code stub reads and integer, , from STDIN. For all non-negative integers , print .1**2"
   ]
  },
  {
   "cell_type": "code",
   "execution_count": 11,
   "id": "9c6f4ee0",
   "metadata": {},
   "outputs": [
    {
     "name": "stdout",
     "output_type": "stream",
     "text": [
      "4\n",
      "0\n",
      "1\n",
      "4\n",
      "9\n"
     ]
    }
   ],
   "source": [
    "if __name__ == '__main__':\n",
    "    n = int(input())\n",
    "    for i in range(0,n):\n",
    "        print (i**2)"
   ]
  },
  {
   "cell_type": "code",
   "execution_count": 12,
   "id": "2e7e0b9e",
   "metadata": {},
   "outputs": [],
   "source": [
    "# leap year"
   ]
  },
  {
   "cell_type": "code",
   "execution_count": 17,
   "id": "5fd2ddb5",
   "metadata": {},
   "outputs": [
    {
     "name": "stdout",
     "output_type": "stream",
     "text": [
      "1990\n"
     ]
    },
    {
     "data": {
      "text/plain": [
       "False"
      ]
     },
     "execution_count": 17,
     "metadata": {},
     "output_type": "execute_result"
    }
   ],
   "source": [
    "def is_leap(year):\n",
    "    leap = False\n",
    "    \n",
    "    # Write your logic here\n",
    "    if year % 4 == 0:\n",
    "        if year % 100 !=0:\n",
    "            leap = True\n",
    "        else:\n",
    "            if year % 400 == 0:\n",
    "                leap = True\n",
    "            else:\n",
    "                leap = False\n",
    "    \n",
    "    return leap\n",
    "\n",
    "year = int(input())\n",
    "is_leap(year)"
   ]
  },
  {
   "cell_type": "code",
   "execution_count": 20,
   "id": "aee35b18",
   "metadata": {},
   "outputs": [],
   "source": [
    "### The included code stub will read an integer, , from STDIN.\n",
    "\n",
    "### Without using any string methods, try to print the following 123...n:\n",
    "\n",
    "\n"
   ]
  },
  {
   "cell_type": "code",
   "execution_count": 21,
   "id": "4078a3d9",
   "metadata": {},
   "outputs": [
    {
     "name": "stdout",
     "output_type": "stream",
     "text": [
      "3\n",
      "123"
     ]
    }
   ],
   "source": [
    "if __name__ == '__main__':\n",
    "    n = int(input())\n",
    "    for i in range(1,n+1):\n",
    "        print (i,end=\"\")"
   ]
  },
  {
   "cell_type": "code",
   "execution_count": null,
   "id": "a9ad6667",
   "metadata": {},
   "outputs": [],
   "source": []
  }
 ],
 "metadata": {
  "kernelspec": {
   "display_name": "Python 3 (ipykernel)",
   "language": "python",
   "name": "python3"
  },
  "language_info": {
   "codemirror_mode": {
    "name": "ipython",
    "version": 3
   },
   "file_extension": ".py",
   "mimetype": "text/x-python",
   "name": "python",
   "nbconvert_exporter": "python",
   "pygments_lexer": "ipython3",
   "version": "3.9.7"
  }
 },
 "nbformat": 4,
 "nbformat_minor": 5
}
