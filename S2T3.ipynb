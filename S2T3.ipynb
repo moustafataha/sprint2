{
 "cells": [
  {
   "cell_type": "code",
   "execution_count": 1,
   "id": "b40aae64",
   "metadata": {},
   "outputs": [],
   "source": [
    "#swap function"
   ]
  },
  {
   "cell_type": "code",
   "execution_count": 3,
   "id": "345340a8",
   "metadata": {},
   "outputs": [],
   "source": [
    "def swap_case(s):\n",
    "    new_s=[]\n",
    "    for i in range(len(s)):\n",
    "        if (s[i].isupper())==True:\n",
    "            new_s.append(s[i].lower())\n",
    "        elif (s[i].islower()==True):\n",
    "            new_s.append(s[i].upper())\n",
    "        else:\n",
    "            new_s.append(s[i])    \n",
    "        new_str=''\n",
    "    return new_str.join(new_s)\n",
    "\n"
   ]
  },
  {
   "cell_type": "code",
   "execution_count": 4,
   "id": "07e5de9b",
   "metadata": {},
   "outputs": [],
   "source": [
    "# string split & join"
   ]
  },
  {
   "cell_type": "code",
   "execution_count": 5,
   "id": "3099cd02",
   "metadata": {},
   "outputs": [
    {
     "name": "stdout",
     "output_type": "stream",
     "text": [
      "goood morning\n",
      "goood-morning\n"
     ]
    }
   ],
   "source": [
    "\n",
    "\n",
    "def split_and_join(line):\n",
    "    # write your code here\n",
    "    line = line.split(\" \")\n",
    "    line = \"-\".join(line)\n",
    "    return (line)\n",
    "\n",
    "if __name__ == '__main__':\n",
    "    line = input()\n",
    "    result = split_and_join(line)\n",
    "    print(result)"
   ]
  },
  {
   "cell_type": "code",
   "execution_count": 6,
   "id": "fcf5e1ac",
   "metadata": {},
   "outputs": [],
   "source": [
    "# what is your name"
   ]
  },
  {
   "cell_type": "code",
   "execution_count": 8,
   "id": "70eb6c7e",
   "metadata": {},
   "outputs": [],
   "source": [
    "#\n",
    "# Complete the 'print_full_name' function below.\n",
    "#\n",
    "# The function is expected to return a STRING.\n",
    "# The function accepts following parameters:\n",
    "#  1. STRING first\n",
    "#  2. STRING last\n",
    "#\n",
    "\n",
    "def print_full_name(first, last):\n",
    "    # Write your code here\n",
    "    print (\"Hello\",first, last+\"! You just delved into python.\" )\n",
    "\n"
   ]
  },
  {
   "cell_type": "code",
   "execution_count": 9,
   "id": "af598361",
   "metadata": {},
   "outputs": [],
   "source": [
    "# mutations"
   ]
  },
  {
   "cell_type": "code",
   "execution_count": 10,
   "id": "abca3369",
   "metadata": {},
   "outputs": [],
   "source": [
    "def mutate_string(string, position, character):\n",
    "    x = list(string)\n",
    "    x[position] = character\n",
    "    string = ''.join(x)\n",
    "    return string\n",
    "\n"
   ]
  },
  {
   "cell_type": "code",
   "execution_count": 11,
   "id": "de2f9871",
   "metadata": {},
   "outputs": [],
   "source": [
    "# string validation"
   ]
  },
  {
   "cell_type": "code",
   "execution_count": 12,
   "id": "6d6f39d6",
   "metadata": {},
   "outputs": [
    {
     "name": "stdout",
     "output_type": "stream",
     "text": [
      "h hgfdfg644ju\n",
      "True\n",
      "True\n",
      "True\n",
      "True\n",
      "False\n"
     ]
    }
   ],
   "source": [
    "if __name__ == '__main__':\n",
    "    s = input()\n",
    "    print(any(char.isalnum() for char in s))\n",
    "    print(any(char.isalpha() for char in s))\n",
    "    print(any(char.isdigit() for char in s))\n",
    "    print(any(char.islower() for char in s))\n",
    "    print(any(char.isupper() for char in s))"
   ]
  },
  {
   "cell_type": "code",
   "execution_count": 13,
   "id": "15c0634b",
   "metadata": {},
   "outputs": [],
   "source": [
    "# text allignment"
   ]
  },
  {
   "cell_type": "code",
   "execution_count": null,
   "id": "32051681",
   "metadata": {},
   "outputs": [],
   "source": [
    "thickness = int(input()) #This must be an odd number\n",
    "c = 'H'\n",
    "\n",
    "#Top Cone\n",
    "for i in range(thickness):\n",
    "    print((c*i).rjust(thickness-1)+c+(c*i).ljust(thickness-1))\n",
    "\n",
    "#Top Pillars\n",
    "for i in range(thickness+1):\n",
    "    print((c*thickness).center(thickness*2)+(c*thickness).center(thickness*6))\n",
    "\n",
    "#Middle Belt\n",
    "for i in range((thickness+1)//2):\n",
    "    print((c*thickness*5).center(thickness*6))    \n",
    "\n",
    "#Bottom Pillars\n",
    "for i in range(thickness+1):\n",
    "    print((c*thickness).center(thickness*2)+(c*thickness).center(thickness*6))    \n",
    "\n",
    "#Bottom Cone\n",
    "for i in range(thickness):\n",
    "    print(((c*(thickness-i-1)).rjust(thickness)+c+(c*(thickness-i-1)).ljust(thickness)).rjust(thickness*6))"
   ]
  },
  {
   "cell_type": "code",
   "execution_count": null,
   "id": "5b0b6d3c",
   "metadata": {},
   "outputs": [],
   "source": [
    "# text wrap"
   ]
  },
  {
   "cell_type": "code",
   "execution_count": null,
   "id": "cffd79d4",
   "metadata": {},
   "outputs": [],
   "source": [
    "import textwrap\n",
    "\n",
    "def wrap(string, max_width):\n",
    "    return textwrap.TextWrapper(width=max_width).fill(text=string)\n",
    "\n",
    "if __name__ == '__main__':"
   ]
  },
  {
   "cell_type": "code",
   "execution_count": null,
   "id": "1db160bd",
   "metadata": {},
   "outputs": [],
   "source": [
    "# door mat"
   ]
  },
  {
   "cell_type": "code",
   "execution_count": null,
   "id": "82bff6ba",
   "metadata": {},
   "outputs": [],
   "source": [
    "# Enter your code here. Read input from STDIN. Print output to STDOUT\n",
    "n,m=input().split()\n",
    "c='|'\n",
    "v='.'\n",
    "\n",
    "n=int(n)\n",
    "m=int(m)\n",
    "j=n//2-1\n",
    "for i in range(n):\n",
    "    if i==n//2:\n",
    "        print('WELCOME'.center(m,'-'))\n",
    "    else:\n",
    "        if i<n/2:    \n",
    "            print(((v+c+v)*(2*i+1)).center(m,'-'))\n",
    "        else:\n",
    "            print(((v+c+v)*(2*j+1)).center(m,'-'))\n",
    "            j=j-1"
   ]
  },
  {
   "cell_type": "code",
   "execution_count": null,
   "id": "87b56ac3",
   "metadata": {},
   "outputs": [],
   "source": [
    "# string formatting"
   ]
  },
  {
   "cell_type": "code",
   "execution_count": null,
   "id": "30ba18c0",
   "metadata": {},
   "outputs": [],
   "source": [
    "def print_formatted(number):\n",
    "    # your code goes here\n",
    "    l1 = len(bin(number)[2:])\n",
    "   \n",
    "    for i in range(1,number+1):\n",
    "        print(str(i).rjust(l1,' '),end=\" \")\n",
    "        print(oct(i)[2:].rjust(l1,' '),end=\" \")\n",
    "        print(((hex(i)[2:]).upper()).rjust(l1,' '),end=\" \")\n",
    "        print(bin(i)[2:].rjust(l1,' '),end=\" \")\n",
    "        print(\"\")\n",
    "\n",
    "if __name__ == '__main__':"
   ]
  },
  {
   "cell_type": "code",
   "execution_count": null,
   "id": "b46b280d",
   "metadata": {},
   "outputs": [],
   "source": [
    "# rangoli"
   ]
  },
  {
   "cell_type": "code",
   "execution_count": null,
   "id": "f494bd78",
   "metadata": {},
   "outputs": [],
   "source": [
    "def print_rangoli(size):\n",
    "    # your code goes here\n",
    "   \n",
    "    width  = size*4-3\n",
    "    string = ''\n",
    "\n",
    "    for i in range(1,size+1):\n",
    "        for j in range(0,i):\n",
    "            string += chr(96+size-j)\n",
    "            if len(string) < width :\n",
    "                string += '-'\n",
    "        for k in range(i-1,0,-1):    \n",
    "            string += chr(97+size-k)\n",
    "            if len(string) < width :\n",
    "                string += '-'\n",
    "        print(string.center(width,'-'))\n",
    "        string = ''\n",
    "\n",
    "    for i in range(size-1,0,-1):\n",
    "        string = ''\n",
    "        for j in range(0,i):\n",
    "            string += chr(96+size-j)\n",
    "            if len(string) < width :\n",
    "                string += '-'\n",
    "        for k in range(i-1,0,-1):\n",
    "            string += chr(97+size-k)\n",
    "            if len(string) < width :\n",
    "                string += '-'\n",
    "        print(string.center(width,'-'))\n",
    "\n",
    "if __name__ == '__main__':"
   ]
  },
  {
   "cell_type": "code",
   "execution_count": null,
   "id": "298ceeff",
   "metadata": {},
   "outputs": [],
   "source": [
    "# capitalize"
   ]
  },
  {
   "cell_type": "code",
   "execution_count": null,
   "id": "f6d7ef68",
   "metadata": {},
   "outputs": [],
   "source": [
    "#!/bin/python3\n",
    "\n",
    "import math\n",
    "import os\n",
    "import random\n",
    "import re\n",
    "import sys\n",
    "\n",
    "# Complete the solve function below.\n",
    "def solve(s):\n",
    "    res=\"\"\n",
    "    for i in range(len(s)):\n",
    "        if i==0:\n",
    "           if s[i].isalpha():\n",
    "               res+=s[i].capitalize()\n",
    "           else:\n",
    "               res+=s[i]\n",
    "        else:\n",
    "            if s[i].isalpha() and s[i-1]==' ':\n",
    "                res+=s[i].capitalize()\n",
    "            else:\n",
    "                res+=s[i]\n",
    "    return res \n",
    "\n",
    "if __name__ == '__main__':"
   ]
  },
  {
   "cell_type": "code",
   "execution_count": null,
   "id": "09153121",
   "metadata": {},
   "outputs": [],
   "source": [
    "# minion game"
   ]
  },
  {
   "cell_type": "code",
   "execution_count": null,
   "id": "afaa414a",
   "metadata": {},
   "outputs": [],
   "source": [
    "def minion_game(string):\n",
    "    # your code goes here\n",
    "    s=len(string)\n",
    "    vowel = 0\n",
    "    consonant = 0\n",
    "     \n",
    "    for i in range(s):\n",
    "        if string[i] in 'AEIOU':\n",
    "           vowel+=(s-i)\n",
    "        else:\n",
    "           consonant+=(s-i)\n",
    "                \n",
    "    if vowel < consonant:\n",
    "        print('Stuart ' + str(consonant))\n",
    "    elif vowel > consonant:\n",
    "        print('Kevin ' + str(vowel))\n",
    "    else:\n",
    "        print('Draw')\n",
    "if __name__ == '__main__':"
   ]
  },
  {
   "cell_type": "code",
   "execution_count": null,
   "id": "8058583f",
   "metadata": {},
   "outputs": [],
   "source": [
    "# merge the tool"
   ]
  },
  {
   "cell_type": "code",
   "execution_count": null,
   "id": "d51da053",
   "metadata": {},
   "outputs": [],
   "source": [
    "def merge_the_tools(string, k):\n",
    "    # your code goes here\n",
    "    split_string=(string[i:i+k] for i in range(0,len(string),k))\n",
    "    for i in split_string:\n",
    "        u=[]\n",
    "        u.append(i[0])\n",
    "        for j in range(1,len(i)):\n",
    "            if i[j] in u:\n",
    "                continue\n",
    "            else:\n",
    "                u.append(i[j])\n",
    "\n",
    "        print(''.join(str(e) for e in u))\n",
    "\n",
    "\n",
    "if __name__ == '__main__':"
   ]
  },
  {
   "cell_type": "code",
   "execution_count": null,
   "id": "bd46115e",
   "metadata": {},
   "outputs": [],
   "source": []
  }
 ],
 "metadata": {
  "kernelspec": {
   "display_name": "Python 3 (ipykernel)",
   "language": "python",
   "name": "python3"
  },
  "language_info": {
   "codemirror_mode": {
    "name": "ipython",
    "version": 3
   },
   "file_extension": ".py",
   "mimetype": "text/x-python",
   "name": "python",
   "nbconvert_exporter": "python",
   "pygments_lexer": "ipython3",
   "version": "3.9.7"
  }
 },
 "nbformat": 4,
 "nbformat_minor": 5
}
