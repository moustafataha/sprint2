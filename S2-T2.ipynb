{
 "cells": [
  {
   "cell_type": "code",
   "execution_count": 1,
   "id": "abbb6176",
   "metadata": {},
   "outputs": [],
   "source": [
    "# Let's learn about list comprehensions! You are given three integers  and  representing\n",
    "#the dimensions of a cuboid along with an integer . Print a list of all possible coordinates given by  on a 3D grid where \n",
    "#the sum of  is not equal to . Here, . Please use list comprehensions rather than multiple loops, as a learning exercise\n",
    "\n"
   ]
  },
  {
   "cell_type": "code",
   "execution_count": 2,
   "id": "943dcb1f",
   "metadata": {},
   "outputs": [
    {
     "name": "stdout",
     "output_type": "stream",
     "text": [
      "1\n",
      "1\n",
      "2\n",
      "3\n",
      "[[0, 0, 0], [0, 0, 1], [0, 0, 2], [0, 1, 0], [0, 1, 1], [1, 0, 0], [1, 0, 1], [1, 1, 0], [1, 1, 2]]\n"
     ]
    }
   ],
   "source": [
    "if __name__ == '__main__':\n",
    "    x = int(input())\n",
    "    y = int(input())\n",
    "    z = int(input())\n",
    "    n = int(input())\n",
    "    list1 = []\n",
    "    \n",
    "    for i in range(x+1):\n",
    "        for j in range (y+1):\n",
    "            for k in range(z+1):\n",
    "                if (i+j+k)==n:\n",
    "                    continue\n",
    "                else:\n",
    "                    list1.append([i,j,k])\n",
    "    print (list1)"
   ]
  },
  {
   "cell_type": "code",
   "execution_count": 3,
   "id": "4b9e26c0",
   "metadata": {},
   "outputs": [],
   "source": [
    "# Given the participants' score sheet for your University Sports Day, you are required to find the runner-up score. \n",
    "#You are given  scores. Store them in a list and find the score of the runner-up."
   ]
  },
  {
   "cell_type": "code",
   "execution_count": 7,
   "id": "3c3e9db4",
   "metadata": {},
   "outputs": [
    {
     "name": "stdout",
     "output_type": "stream",
     "text": [
      "13665\n",
      "4\n"
     ]
    }
   ],
   "source": [
    "if __name__ == '__main__':\n",
    "    n = int(input())\n",
    "    arr = map(int, input().split())\n",
    "    arr = list(arr)\n",
    "    arr.sort(reverse=True)\n",
    "    for i in arr:\n",
    "        if i == arr[0]:\n",
    "            continue\n",
    "        else:\n",
    "            print (i)\n",
    "            break\n",
    "        "
   ]
  },
  {
   "cell_type": "code",
   "execution_count": null,
   "id": "e4811680",
   "metadata": {},
   "outputs": [],
   "source": [
    "# The ordered list of scores is , so the second lowest score is . There are two students with that score: . Ordered alphabetically, the names are printed as:\n"
   ]
  },
  {
   "cell_type": "code",
   "execution_count": null,
   "id": "83ed232f",
   "metadata": {},
   "outputs": [],
   "source": [
    "if __name__ == '__main__':\n",
    "    rec = []\n",
    "    list1 = []\n",
    "    for _ in range(int(input())):\n",
    "        name = input()\n",
    "        score = float(input())\n",
    "        rec.append([score,name])\n",
    "    rec.sort()\n",
    "    m = (rec[0])\n",
    "    n = m[0]\n",
    "    x = 0\n",
    "    for i in rec:\n",
    "        if i[0] == n:\n",
    "            continue\n",
    "        if i[0] > n:\n",
    "            x = i[0]\n",
    "            break\n",
    "    for i in rec:\n",
    "        if i[0] == x:\n",
    "            list1.append(i)\n",
    "    for i in list1:\n",
    "        print (i[1])"
   ]
  },
  {
   "cell_type": "code",
   "execution_count": null,
   "id": "087d227f",
   "metadata": {},
   "outputs": [],
   "source": [
    "# The provided code stub will read in a dictionary containing key/value pairs of name:[marks] for a list of students. Print the average of the marks array for the student name provided, showing 2 places after the decimal."
   ]
  },
  {
   "cell_type": "code",
   "execution_count": null,
   "id": "390a81ed",
   "metadata": {},
   "outputs": [],
   "source": [
    "if __name__ == '__main__':\n",
    "    n = int(input())\n",
    "    student_marks = {}\n",
    "    for _ in range(n):\n",
    "        name, *line = input().split()\n",
    "        scores = list(map(float, line))\n",
    "        student_marks[name] = scores\n",
    "    query_name = input()\n",
    "    for i,j in student_marks.items():\n",
    "        x = len(j)\n",
    "        if i == \"Malika\":\n",
    "            y = (sum(j)/x)\n",
    "            #z= (\"{0:.2f}\".format(y))\n",
    "            z= (\"%.2f\"%y)\n",
    "            z= (\"{:.2f}\".format(y))\n",
    "            print(\"%.2f\"%y)"
   ]
  },
  {
   "cell_type": "code",
   "execution_count": null,
   "id": "969e4296",
   "metadata": {},
   "outputs": [],
   "source": [
    "# In this challenge, the user enters a string and a substring. You have to print the number of times that the substring occurs in the given string. String traversal will take place from left to right, not from right to left."
   ]
  },
  {
   "cell_type": "code",
   "execution_count": null,
   "id": "4fc535f9",
   "metadata": {},
   "outputs": [],
   "source": [
    "def count_substring(string, sub_string):\n",
    "    c = 0\n",
    "    for i in range(len(string)-len(sub_string)+1):\n",
    "        if (string[i:i+len(sub_string)] == sub_string):\n",
    "            c += 1\n",
    "    \n",
    "    return c\n",
    "\n",
    "if __name__ == '__main__':\n",
    "    string = input().strip()\n",
    "    sub_string = input().strip()\n",
    "    \n",
    "    count = count_substring(string, sub_string)\n",
    "    print(count)"
   ]
  },
  {
   "cell_type": "code",
   "execution_count": null,
   "id": "52e96434",
   "metadata": {},
   "outputs": [],
   "source": [
    "# lists problem"
   ]
  },
  {
   "cell_type": "code",
   "execution_count": null,
   "id": "2ccdd0de",
   "metadata": {},
   "outputs": [],
   "source": [
    "if __name__ == '__main__':\n",
    "    N = int(input())\n",
    "    Output = [];\n",
    "    for i in range(0,N):\n",
    "        ip = input().split();\n",
    "        if ip[0] == \"print\":\n",
    "            print(Output)\n",
    "        elif ip[0] == \"insert\":\n",
    "            Output.insert(int(ip[1]),int(ip[2]))\n",
    "        elif ip[0] == \"remove\":\n",
    "            Output.remove(int(ip[1]))\n",
    "        elif ip[0] == \"pop\":\n",
    "            Output.pop();\n",
    "        elif ip[0] == \"append\":\n",
    "            Output.append(int(ip[1]))\n",
    "        elif ip[0] == \"sort\":\n",
    "            Output.sort();\n",
    "        else:\n",
    "            Output.reverse()"
   ]
  },
  {
   "cell_type": "code",
   "execution_count": null,
   "id": "18eca905",
   "metadata": {},
   "outputs": [],
   "source": [
    "# tuples"
   ]
  },
  {
   "cell_type": "code",
   "execution_count": null,
   "id": "d4ffd053",
   "metadata": {},
   "outputs": [],
   "source": [
    "if __name__ == '__main__':\n",
    "    n = int(input())\n",
    "    integer_list = map(int, input().split())\n",
    "    t = tuple(integer_list)\n",
    "    print (hash(t))"
   ]
  },
  {
   "cell_type": "code",
   "execution_count": null,
   "id": "47653cf9",
   "metadata": {},
   "outputs": [],
   "source": []
  }
 ],
 "metadata": {
  "kernelspec": {
   "display_name": "Python 3 (ipykernel)",
   "language": "python",
   "name": "python3"
  },
  "language_info": {
   "codemirror_mode": {
    "name": "ipython",
    "version": 3
   },
   "file_extension": ".py",
   "mimetype": "text/x-python",
   "name": "python",
   "nbconvert_exporter": "python",
   "pygments_lexer": "ipython3",
   "version": "3.9.7"
  }
 },
 "nbformat": 4,
 "nbformat_minor": 5
}
